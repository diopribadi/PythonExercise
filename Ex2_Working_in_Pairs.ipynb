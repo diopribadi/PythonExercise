{
 "cells": [
  {
   "cell_type": "markdown",
   "id": "f89a4f88",
   "metadata": {},
   "source": [
    "# Problem 1"
   ]
  },
  {
   "cell_type": "code",
   "execution_count": 47,
   "id": "03ef93f4",
   "metadata": {},
   "outputs": [],
   "source": [
    "station_names = ['lighthouse','Harmaja','Suomenlinna aaltopoiju','Kumpula','Kaisaniemi']\n",
    "station_start_years = [2003,1989,2016,2005,1844]"
   ]
  },
  {
   "cell_type": "code",
   "execution_count": 48,
   "id": "e2be1489",
   "metadata": {},
   "outputs": [],
   "source": [
    "assert len(station_names) == 5, 'The station_names list should have 5 items.'\n",
    "assert len(station_start_years) == 5, 'The station_start_years list should have 5 items.'"
   ]
  },
  {
   "cell_type": "code",
   "execution_count": 49,
   "id": "6815e252",
   "metadata": {},
   "outputs": [],
   "source": [
    "assert station_names[0] == 'lighthouse', 'The first item in the station_names list should be \"lighthouse\"'\n",
    "assert station_start_years[0] == 2003, 'The first item in the station_start_years list should be 2003'"
   ]
  },
  {
   "cell_type": "markdown",
   "id": "c7aef064",
   "metadata": {},
   "source": [
    "## Part 2"
   ]
  },
  {
   "cell_type": "code",
   "execution_count": 50,
   "id": "ba5fdfd8",
   "metadata": {},
   "outputs": [
    {
     "name": "stdout",
     "output_type": "stream",
     "text": [
      "['lighthouse', 'Harmaja', 'Suomenlinna aaltopoiju', 'Kumpula', 'Kaisaniemi', 'Malmi airfield', 'Vuosaari harbour', 'Kaivopuisto']\n"
     ]
    }
   ],
   "source": [
    "new_station_names = ['Malmi airfield','Vuosaari harbour','Kaivopuisto']\n",
    "station_names = station_names + new_station_names\n",
    "print (station_names)\n",
    "################################################"
   ]
  },
  {
   "cell_type": "code",
   "execution_count": 51,
   "id": "bb7dae64",
   "metadata": {},
   "outputs": [
    {
     "name": "stdout",
     "output_type": "stream",
     "text": [
      "[2003, 1989, 2016, 2005, 1844, 1937, 2012, 1904]\n"
     ]
    }
   ],
   "source": [
    "new_station_start_years = [1937,2012,1904]\n",
    "station_start_years = station_start_years + new_station_start_years\n",
    "print (station_start_years)"
   ]
  },
  {
   "cell_type": "code",
   "execution_count": 52,
   "id": "386b73a8",
   "metadata": {},
   "outputs": [],
   "source": [
    "assert len(station_names) == 8, 'The station_names list should have 8 items.'\n",
    "assert len(station_start_years) == 8, 'The station_start_years list should have 8 items.'"
   ]
  },
  {
   "cell_type": "code",
   "execution_count": 54,
   "id": "a2fef39a",
   "metadata": {},
   "outputs": [],
   "source": [
    "assert station_names[-1] == 'Kaivopuisto', 'The last item in the station_names list should be \"Kaivopuisto\"'\n",
    "assert station_start_years[-1] == 1904, 'The last item in the station_start_years list should be 1904'"
   ]
  },
  {
   "cell_type": "markdown",
   "id": "c98e8375",
   "metadata": {},
   "source": [
    "## Part 3"
   ]
  },
  {
   "cell_type": "code",
   "execution_count": 57,
   "id": "bb3a6b84",
   "metadata": {},
   "outputs": [
    {
     "name": "stdout",
     "output_type": "stream",
     "text": [
      "['Harmaja', 'Kaisaniemi', 'Kaivopuisto', 'Kumpula', 'Malmi airfield', 'Suomenlinna aaltopoiju', 'Vuosaari harbour', 'lighthouse']\n"
     ]
    }
   ],
   "source": [
    "station_names.sort()\n",
    "print(station_names)"
   ]
  },
  {
   "cell_type": "code",
   "execution_count": 59,
   "id": "1f7dc336",
   "metadata": {},
   "outputs": [],
   "source": [
    "assert station_names[0] == 'Harmaja', 'The first item in the station_names list should be \"Harmaja\"'"
   ]
  },
  {
   "cell_type": "code",
   "execution_count": 63,
   "id": "792c84d9",
   "metadata": {},
   "outputs": [
    {
     "name": "stdout",
     "output_type": "stream",
     "text": [
      "[2016, 2012, 2005, 2003, 1989, 1937, 1904, 1844]\n"
     ]
    }
   ],
   "source": [
    "station_start_years.reverse()\n",
    "print(station_start_years)"
   ]
  },
  {
   "cell_type": "code",
   "execution_count": 65,
   "id": "9bfe7cfe",
   "metadata": {},
   "outputs": [],
   "source": [
    "assert station_start_years[0] == 2016, 'The first item in the station_start_years list should be 2016'"
   ]
  },
  {
   "cell_type": "markdown",
   "id": "c4f35314",
   "metadata": {},
   "source": [
    "## Part 4\n",
    "lighthouse should sorted at middle"
   ]
  },
  {
   "cell_type": "code",
   "execution_count": null,
   "id": "f77ae83d",
   "metadata": {},
   "outputs": [],
   "source": []
  }
 ],
 "metadata": {
  "kernelspec": {
   "display_name": "Python 3",
   "language": "python",
   "name": "python3"
  },
  "language_info": {
   "codemirror_mode": {
    "name": "ipython",
    "version": 3
   },
   "file_extension": ".py",
   "mimetype": "text/x-python",
   "name": "python",
   "nbconvert_exporter": "python",
   "pygments_lexer": "ipython3",
   "version": "3.8.8"
  }
 },
 "nbformat": 4,
 "nbformat_minor": 5
}
